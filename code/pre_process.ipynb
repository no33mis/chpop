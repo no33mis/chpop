{
 "cells": [
  {
   "cell_type": "code",
   "execution_count": 2,
   "metadata": {},
   "outputs": [],
   "source": [
    "import pandas as pd\n",
    "import numpy as np\n",
    "from pyproj import Proj, Transformer\n",
    "import matplotlib.pyplot as plt\n",
    "import jenkspy\n",
    "import os"
   ]
  },
  {
   "cell_type": "code",
   "execution_count": 3,
   "metadata": {},
   "outputs": [],
   "source": [
    "# set OS\n",
    "os.chdir(\"/Users/noee/Projects/deck/CHPOP\")"
   ]
  },
  {
   "cell_type": "code",
   "execution_count": 4,
   "metadata": {},
   "outputs": [],
   "source": [
    "# Load CSV data into a Pandas DataFrame\n",
    "df = pd.read_csv('data/ag-b-00.03-vz2022statpop/STATPOP2022.csv', sep=\";\")"
   ]
  },
  {
   "cell_type": "code",
   "execution_count": 5,
   "metadata": {},
   "outputs": [],
   "source": [
    "# Define the projection transformations\n",
    "transformer = Transformer.from_crs(\"epsg:2056\", \"epsg:4326\", always_xy=True)"
   ]
  },
  {
   "cell_type": "code",
   "execution_count": 6,
   "metadata": {},
   "outputs": [],
   "source": [
    "# Apply the transformation to each row and create new columns for WGS84 coordinates\n",
    "df[['LON', 'LAT']] = df.apply(\n",
    "    lambda row: transformer.transform(row['E_KOORD'], row['N_KOORD']), axis=1, result_type='expand'\n",
    ")"
   ]
  },
  {
   "cell_type": "code",
   "execution_count": 7,
   "metadata": {},
   "outputs": [],
   "source": [
    "# only keep the relevant columns to save space\n",
    "df_small = df[[\"LON\", \"LAT\", \"B22BTOT\"]]"
   ]
  },
  {
   "cell_type": "code",
   "execution_count": null,
   "metadata": {},
   "outputs": [],
   "source": [
    "top_20_rows = df_small.nlargest(20, 'B22BTOT')\n",
    "print(top_20_rows)\n"
   ]
  },
  {
   "cell_type": "code",
   "execution_count": 9,
   "metadata": {},
   "outputs": [],
   "source": [
    "#drop the two outliers in zurich and geneva\n",
    "df_small = df_small.drop([3992, 232512])"
   ]
  },
  {
   "cell_type": "code",
   "execution_count": 24,
   "metadata": {},
   "outputs": [],
   "source": [
    "# Write the modified DataFrame to a new CSV and json file\n",
    "df_small.to_csv('data/cleaned/statpop_2022.csv', index=False)\n",
    "df_small.to_json('data/cleaned/statpop_2022.json', orient='records', force_ascii=False)"
   ]
  }
 ],
 "metadata": {
  "kernelspec": {
   "display_name": "deck",
   "language": "python",
   "name": "python3"
  },
  "language_info": {
   "codemirror_mode": {
    "name": "ipython",
    "version": 3
   },
   "file_extension": ".py",
   "mimetype": "text/x-python",
   "name": "python",
   "nbconvert_exporter": "python",
   "pygments_lexer": "ipython3",
   "version": "3.9.18"
  }
 },
 "nbformat": 4,
 "nbformat_minor": 2
}
